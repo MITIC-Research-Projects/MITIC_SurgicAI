{
 "cells": [
  {
   "cell_type": "code",
   "execution_count": null,
   "metadata": {},
   "outputs": [],
   "source": [
    "import gymnasium as gym\n",
    "from stable_baselines3.common.evaluation import evaluate_policy\n",
    "from High_level_env import SRC_high_level\n",
    "import numpy as np\n",
    "from stable_baselines3.common.callbacks import CheckpointCallback\n",
    "from stable_baselines3.common.env_checker import check_env\n",
    "from RL_algo.PPO import PPO\n",
    "from stable_baselines3.common.utils import set_random_seed\n",
    "import time\n",
    "import torch\n",
    "from torch.optim import Adam\n",
    "from torch.utils.data import TensorDataset, DataLoader\n",
    "import torch.nn.functional as F\n",
    "import torch.nn as nn\n",
    "from sklearn.model_selection import train_test_split\n",
    "import numpy as np\n",
    "import pickle\n",
    "from torch.utils.tensorboard import SummaryWriter\n",
    "\n",
    "seed = 10\n",
    "set_random_seed(seed)\n",
    "\n",
    "episode_steps = 50\n",
    "\n",
    "gym.envs.register(id=\"high_level\", entry_point=SRC_high_level, max_episode_steps=episode_steps)\n",
    "env = gym.make(\"high_level\")"
   ]
  },
  {
   "cell_type": "code",
   "execution_count": null,
   "metadata": {},
   "outputs": [],
   "source": [
    "env.reset()"
   ]
  },
  {
   "cell_type": "code",
   "execution_count": null,
   "metadata": {},
   "outputs": [],
   "source": [
    "env.reset()\n",
    "for _ in range(20000):\n",
    "    # Random action\n",
    "    action = env.action_space.sample()\n",
    "    # print(action)\n",
    "    print(env.low_env.task)\n",
    "    obs, reward, terminated, truncated, info = env.step(action)\n",
    "    if terminated or truncated:\n",
    "        time.sleep(1.0)\n",
    "        obs, info = env.reset()"
   ]
  },
  {
   "cell_type": "code",
   "execution_count": null,
   "metadata": {},
   "outputs": [],
   "source": [
    "check_env(env)"
   ]
  },
  {
   "cell_type": "code",
   "execution_count": null,
   "metadata": {},
   "outputs": [],
   "source": [
    "with open('/home/jin/6d_pose_collection_scripts/Trajectory_complete.pkl', 'rb') as f:\n",
    "    expert_data = pickle.load(f)\n",
    "\n",
    "# Data Preprocessing\n",
    "observations = np.concatenate([traj.obs[:-1] for traj in expert_data], axis=0)\n",
    "actions =   np.concatenate([traj.acts for traj in expert_data], axis=0)\n",
    "\n",
    "change_indices = np.where(actions[:-1] != actions[1:])[0] + 1\n",
    "\n",
    "changed_observations = []\n",
    "changed_actions = []\n",
    "\n",
    "for index in change_indices:\n",
    "    end_index = min(index + 50, len(observations))\n",
    "    changed_observations.extend(observations[index:end_index])\n",
    "    changed_actions.extend([actions[index]] * (end_index - index))\n",
    "\n",
    "changed_observations = np.array(changed_observations)\n",
    "changed_actions = np.array(changed_actions)\n",
    "\n",
    "print(\"Changed Observations: \", changed_observations)\n",
    "print(\"Changed Actions: \", changed_actions)\n",
    "\n",
    "observations = changed_observations\n",
    "actions = changed_actions\n"
   ]
  },
  {
   "cell_type": "code",
   "execution_count": null,
   "metadata": {},
   "outputs": [],
   "source": [
    "# First training\n",
    "model = PPO(\"MlpPolicy\", env,gamma=0.7, verbose=1,tensorboard_log=\"./High_level\")"
   ]
  },
  {
   "cell_type": "code",
   "execution_count": null,
   "metadata": {},
   "outputs": [],
   "source": [
    "def train(model, device, train_loader, optimizer, criterion, epoch, writer):\n",
    "    model.train()\n",
    "    train_loss = 0\n",
    "    for data, target in train_loader:\n",
    "        data, target = data.to(device), target.to(device)\n",
    "        optimizer.zero_grad()\n",
    "        dist = model.get_distribution(data)\n",
    "        logits = dist.distribution.logits\n",
    "        loss = criterion(logits, target[:, 0])\n",
    "        loss.backward()\n",
    "        optimizer.step()\n",
    "        train_loss += loss.item()\n",
    "\n",
    "    train_loss /= len(train_loader)\n",
    "    print(f'Epoch: {epoch}, Average Loss: {train_loss:.4f}')\n",
    "    writer.add_scalar(\"Loss/train\", train_loss, epoch)\n",
    "\n",
    "def test(model, device, test_loader, criterion, epoch, writer):\n",
    "    model.eval()\n",
    "    test_loss = 0\n",
    "    correct = 0\n",
    "    total = 0\n",
    "    with torch.no_grad():\n",
    "        for data, target in test_loader:\n",
    "            data, target = data.to(device), target.to(device)\n",
    "            dist = model.get_distribution(data)\n",
    "            logits = dist.distribution.logits\n",
    "            loss = criterion(logits, target[:, 0])\n",
    "            test_loss += loss.item()\n",
    "            # 计算准确率\n",
    "            pred = logits.argmax(dim=1, keepdim=True)  # 获取最大概率的索引作为预测结果\n",
    "            correct += pred.eq(target[:, 0].view_as(pred)).sum().item()\n",
    "            total += target.size(0)\n",
    "    \n",
    "    accuracy = 100. * correct / total \n",
    "    test_loss /= len(test_loader)\n",
    "    print(f'\\nTest set: Average loss: {test_loss:.4f}, Accuracy: {correct}/{total} ({accuracy:.2f}%)\\n')\n",
    "    writer.add_scalar(\"Loss/test\", test_loss, epoch)\n",
    "    writer.add_scalar(\"Accuracy/test\", accuracy, epoch)\n",
    "\n",
    "def pretrain(model, device, train_loader, test_loader, optimizer, criterion, epochs, writer):\n",
    "    for epoch in range(epochs):\n",
    "        train(model, device, train_loader, optimizer, criterion, epoch, writer)\n",
    "        test(model, device, test_loader, criterion, epoch, writer)"
   ]
  },
  {
   "cell_type": "code",
   "execution_count": null,
   "metadata": {},
   "outputs": [],
   "source": [
    "# 设置TensorBoard\n",
    "writer = SummaryWriter(log_dir=\"./High_level/HLC/BC_log\")\n",
    "\n",
    "# 数据加载和准备\n",
    "train_observations, test_observations, train_actions, test_actions = train_test_split(\n",
    "    observations,\n",
    "    actions,\n",
    "    test_size=0.2,\n",
    "    random_state=42\n",
    ")\n",
    "\n",
    "# 创建数据加载器\n",
    "train_loader = DataLoader(TensorDataset(torch.tensor(train_observations, dtype=torch.float32), torch.tensor(train_actions, dtype=torch.long)), batch_size=1024, shuffle=True)\n",
    "test_loader = DataLoader(TensorDataset(torch.tensor(test_observations, dtype=torch.float32), torch.tensor(test_actions, dtype=torch.long)), batch_size=1024, shuffle=False)\n",
    "\n",
    "# 模型和优化器配置\n",
    "device = torch.device(\"cuda:0\" if torch.cuda.is_available() else \"cpu\")\n",
    "Model_Policy = model.policy.to(device)\n",
    "optimizer = Adam(Model_Policy.parameters(), lr=1e-4)\n",
    "criterion = nn.CrossEntropyLoss()\n",
    "\n",
    "# 启动预训练\n",
    "pretrain(Model_Policy, device, train_loader, test_loader, optimizer, criterion, 10000, writer)"
   ]
  },
  {
   "cell_type": "code",
   "execution_count": null,
   "metadata": {},
   "outputs": [],
   "source": [
    "model.learn(total_timesteps=int(100000))"
   ]
  },
  {
   "cell_type": "code",
   "execution_count": null,
   "metadata": {},
   "outputs": [],
   "source": [
    "model.save('./High_level/HLC/Pretrain_final')"
   ]
  },
  {
   "cell_type": "code",
   "execution_count": null,
   "metadata": {},
   "outputs": [],
   "source": [
    "model.predict(train_observations[0,:])\n",
    "model.predict(obs)\n",
    "print(obs)\n",
    "print(train_observations[0,:])"
   ]
  },
  {
   "cell_type": "code",
   "execution_count": null,
   "metadata": {},
   "outputs": [],
   "source": [
    "model = PPO.load('./High_level/HLC/Pretrain_final')"
   ]
  },
  {
   "cell_type": "code",
   "execution_count": null,
   "metadata": {},
   "outputs": [],
   "source": [
    "# model = RecurrentPPO(\"MlpLstmPolicy\", env, verbose=1, tensorboard_log=\"./High_level\")\n",
    "checkpoint_callback = CheckpointCallback(save_freq=10000, save_path='./High_level/HLC', name_prefix='HLC')\n",
    "model.learn(total_timesteps=int(1000000), progress_bar=True,callback=checkpoint_callback,)"
   ]
  },
  {
   "cell_type": "code",
   "execution_count": null,
   "metadata": {},
   "outputs": [],
   "source": [
    "model.save('./High_level/HLC/model_final')"
   ]
  },
  {
   "cell_type": "code",
   "execution_count": null,
   "metadata": {},
   "outputs": [],
   "source": [
    "# Predict the action with model\n",
    "obs,info = env.reset()\n",
    "print(obs)\n",
    "for i in range(10000):\n",
    "    action, _state = model.predict(obs, deterministic=True)\n",
    "    print(action)\n",
    "    obs, reward, terminated,truncated, info = env.step(action)\n",
    "    # relative_obs = obs[\"observation\"][14:-1]\n",
    "    # print(f\"vector:{relative_obs}, norm:{np.linalg.norm(relative_obs)}\")\n",
    "    # print(info)\n",
    "    # time.sleep(0.1)\n",
    "    env.render()\n",
    "    if terminated or truncated:\n",
    "        obs, info = env.reset()"
   ]
  },
  {
   "cell_type": "code",
   "execution_count": null,
   "metadata": {},
   "outputs": [],
   "source": [
    "np.linalg.norm(env.low_env.obs[\"observation\"][14:21])"
   ]
  }
 ],
 "metadata": {
  "kernelspec": {
   "display_name": "Python 3",
   "language": "python",
   "name": "python3"
  },
  "language_info": {
   "codemirror_mode": {
    "name": "ipython",
    "version": 3
   },
   "file_extension": ".py",
   "mimetype": "text/x-python",
   "name": "python",
   "nbconvert_exporter": "python",
   "pygments_lexer": "ipython3",
   "version": "3.8.10"
  }
 },
 "nbformat": 4,
 "nbformat_minor": 2
}
