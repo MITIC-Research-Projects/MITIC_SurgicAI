{
 "cells": [
  {
   "cell_type": "code",
   "execution_count": null,
   "metadata": {},
   "outputs": [],
   "source": [
    "import gymnasium as gym\n",
    "# from EasyEnv import myEasyGym\n",
    "from Approach_env import SRC_approach as SRC_test\n",
    "import numpy as np\n",
    "from stable_baselines3.common.callbacks import CheckpointCallback\n",
    "from stable_baselines3.common.env_checker import check_env\n",
    "from stable_baselines3 import PPO\n",
    "from CL_env import CurriculumWrapper\n",
    "# Create original environment\n",
    "gym.envs.register(id=\"Training_ppo_rand_needle\", entry_point=SRC_test, max_episode_steps=2000)\n",
    "env = gym.make(\"Training_ppo_rand_needle\", render_mode=\"human\")\n",
    "\n",
    "# Wrap the env into curriculum learning mode\n",
    "env = CurriculumWrapper(env)\n",
    "\n",
    "import torch\n",
    "from torch.optim import Adam\n",
    "from torch.utils.data import TensorDataset, DataLoader\n",
    "import torch.nn.functional as F\n",
    "import torch.nn as nn"
   ]
  },
  {
   "cell_type": "code",
   "execution_count": null,
   "metadata": {},
   "outputs": [],
   "source": [
    "# Check the environment\n",
    "check_env(env)"
   ]
  },
  {
   "cell_type": "code",
   "execution_count": null,
   "metadata": {},
   "outputs": [],
   "source": [
    "env.reset()"
   ]
  },
  {
   "cell_type": "code",
   "execution_count": null,
   "metadata": {},
   "outputs": [],
   "source": [
    "# Initialize the model\n",
    "model = PPO(\"MlpPolicy\", env, verbose=1,tensorboard_log=\"./First_expert_insert/\",)"
   ]
  },
  {
   "cell_type": "code",
   "execution_count": null,
   "metadata": {},
   "outputs": [],
   "source": [
    "# pretrained behavior cloning (optional)\n",
    "import pickle\n",
    "\n",
    "with open('expert_data.pkl', 'rb') as f:\n",
    "    expert_data = pickle.load(f)\n",
    "\n",
    "\n",
    "device = torch.device(\"cuda:0\" if torch.cuda.is_available() else \"cpu\")\n",
    "Policy = model.policy.to(device)\n",
    "observations, actions = zip(*expert_data)\n",
    "observations = np.array(observations)\n",
    "actions = np.array(actions)\n",
    "\n",
    "observations_tensor = torch.tensor(observations, dtype=torch.float32)\n",
    "actions_tensor = torch.tensor(actions, dtype=torch.long)\n",
    "\n",
    "dataset = TensorDataset(observations_tensor, actions_tensor)\n",
    "data_loader = DataLoader(dataset, batch_size=1024, shuffle=True)\n",
    "\n",
    "optimizer = Adam(model.policy.parameters(), lr=2e-4)\n",
    "criterion = nn.CrossEntropyLoss()\n",
    "batch_idx = 0\n",
    "\n",
    "for epoch in range(100000): \n",
    "    loss_avg = 0\n",
    "    batch_idx = 0\n",
    "    if (epoch%10 == 0):\n",
    "        data_loader = DataLoader(dataset, batch_size=1024, shuffle=True)\n",
    "        print(\"Re-shuffle the batch...\")\n",
    "    for batch_obs, batch_actions in data_loader:\n",
    "        batch_idx += 1\n",
    "        batch_obs = batch_obs.to(device)\n",
    "        batch_actions = batch_actions.to(device)\n",
    "        dist = Policy.get_distribution(batch_obs)\n",
    "        loss = 0\n",
    "        action_len = env.action_space.shape[0]\n",
    "        for i in range(action_len):\n",
    "            action_logits = dist.distribution[i].logits\n",
    "            loss += criterion(action_logits, batch_actions[:,i].long())\n",
    "        optimizer.zero_grad()\n",
    "        loss.backward()\n",
    "        optimizer.step()\n",
    "        loss_avg += loss\n",
    "\n",
    "        if (batch_idx%200 == 0):\n",
    "            print(\n",
    "                \"Train Epoch: {} Batch idx: {} \\t Loss: {:.6f}\\n\".format(\n",
    "                    epoch,\n",
    "                    batch_idx,\n",
    "                    loss.item(),\n",
    "                )\n",
    "            )\n",
    "    print(f\"Average Loss in {epoch} episode is {loss_avg/batch_idx}\\n\")\n"
   ]
  },
  {
   "cell_type": "code",
   "execution_count": null,
   "metadata": {},
   "outputs": [],
   "source": [
    "# First-time training\n",
    "# The agent will gradually increase the difficulty of the task once it satisfies the previous error tolerance\n",
    "checkpoint_callback = CheckpointCallback(save_freq=10000, save_path='./First_end_effector/Model_temp2', name_prefix='SRC')\n",
    "model.learn(total_timesteps=int(2000000), progress_bar=True,callback=checkpoint_callback,)\n",
    "model.save(\"SRC\")"
   ]
  },
  {
   "cell_type": "code",
   "execution_count": null,
   "metadata": {},
   "outputs": [],
   "source": [
    "# Continue training\n",
    "model = PPO(\"MlpPolicy\", env, verbose=1,tensorboard_log=\"./First_expert_demo/\")\n",
    "checkpoint_callback = CheckpointCallback(save_freq=10000, save_path='./First_expert_demo/Model_temp', name_prefix='SRC')\n",
    "model_path = \"./Expert.zip\"\n",
    "model = PPO.load(model_path)\n",
    "model.set_env(env=env)\n",
    "model.learn(total_timesteps=int(1000000), progress_bar=True,callback=checkpoint_callback,reset_num_timesteps=False)\n",
    "model.save(\"./First_RL_expert_insert/\"+\"rl_model_final\")"
   ]
  },
  {
   "cell_type": "code",
   "execution_count": null,
   "metadata": {},
   "outputs": [],
   "source": [
    "# Predict the action\n",
    "obs,info = env.reset()\n",
    "print(obs)\n",
    "for i in range(10000):\n",
    "    action, _state = model.predict(obs, deterministic=True)\n",
    "    obs, reward, terminated,truncated, info = env.step(action)\n",
    "    env.render()\n",
    "    if terminated or truncated:\n",
    "        obs, info = env.reset()"
   ]
  },
  {
   "cell_type": "code",
   "execution_count": null,
   "metadata": {},
   "outputs": [],
   "source": [
    "def low_pass_filter(prev_action, new_action, alpha=0.3):\n",
    "    \"\"\"\n",
    "    Apply low pass filter\n",
    "    alpha: smooth factor\n",
    "    \"\"\"\n",
    "    return alpha * new_action + (1 - alpha) * prev_action\n",
    "\n",
    "obs, info = env.reset()\n",
    "prev_action = None\n",
    "\n",
    "for i in range(10000):\n",
    "    current_action, _state = model.predict(obs, deterministic=True)\n",
    "\n",
    "    if prev_action is not None:\n",
    "        filtered_action = low_pass_filter(prev_action, current_action)\n",
    "    else:\n",
    "        filtered_action = current_action\n",
    "\n",
    "    prev_action = filtered_action\n",
    "    print(filtered_action)\n",
    "    \n",
    "    obs, reward, terminated, truncated, info = env.step(filtered_action)\n",
    "    print(info)\n",
    "    env.render()\n",
    "    \n",
    "    if terminated or truncated:\n",
    "        obs, info = env.reset()\n",
    "        prev_action = None \n"
   ]
  }
 ],
 "metadata": {
  "kernelspec": {
   "display_name": "Python 3",
   "language": "python",
   "name": "python3"
  },
  "language_info": {
   "codemirror_mode": {
    "name": "ipython",
    "version": 3
   },
   "file_extension": ".py",
   "mimetype": "text/x-python",
   "name": "python",
   "nbconvert_exporter": "python",
   "pygments_lexer": "ipython3",
   "version": "3.8.10"
  }
 },
 "nbformat": 4,
 "nbformat_minor": 2
}
